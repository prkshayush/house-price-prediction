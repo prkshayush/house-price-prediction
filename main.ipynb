{
 "cells": [
  {
   "cell_type": "code",
   "execution_count": 44,
   "metadata": {},
   "outputs": [],
   "source": [
    "import numpy as np\n",
    "import pandas as pd"
   ]
  },
  {
   "cell_type": "code",
   "execution_count": 45,
   "metadata": {},
   "outputs": [],
   "source": [
    "file_name_Mumbai = './data/Mumbai_data.csv'\n",
    "file_name_Pune = './data/Pune_data.csv'\n",
    "file_name_Delhi = './data/Delhi_data.csv'\n",
    "\n",
    "data_Mumbai = pd.read_csv(file_name_Mumbai)\n",
    "data_Pune = pd.read_csv(file_name_Pune)\n",
    "data_Delhi = pd.read_csv(file_name_Delhi)\n",
    "\n",
    "data_all = [data_Mumbai, data_Pune, data_Delhi]\n",
    "\n",
    "data = pd.concat(data_all, ignore_index=True)"
   ]
  },
  {
   "cell_type": "code",
   "execution_count": 46,
   "metadata": {},
   "outputs": [
    {
     "name": "stdout",
     "output_type": "stream",
     "text": [
      "<class 'pandas.core.frame.DataFrame'>\n",
      "RangeIndex: 5000 entries, 0 to 4999\n",
      "Data columns (total 16 columns):\n",
      " #   Column            Non-Null Count  Dtype  \n",
      "---  ------            --------------  -----  \n",
      " 0   house_type        5000 non-null   object \n",
      " 1   house_size        5000 non-null   object \n",
      " 2   location          5000 non-null   object \n",
      " 3   city              5000 non-null   object \n",
      " 4   latitude          5000 non-null   float64\n",
      " 5   longitude         5000 non-null   float64\n",
      " 6   price             5000 non-null   int64  \n",
      " 7   currency          5000 non-null   object \n",
      " 8   numBathrooms      4986 non-null   float64\n",
      " 9   numBalconies      733 non-null    float64\n",
      " 10  isNegotiable      571 non-null    object \n",
      " 11  priceSqFt         0 non-null      float64\n",
      " 12  verificationDate  5000 non-null   object \n",
      " 13  description       4922 non-null   object \n",
      " 14  SecurityDeposit   5000 non-null   object \n",
      " 15  Status            5000 non-null   object \n",
      "dtypes: float64(5), int64(1), object(10)\n",
      "memory usage: 625.1+ KB\n",
      "\n",
      "\n",
      "\n",
      "<class 'pandas.core.frame.DataFrame'>\n",
      "RangeIndex: 3910 entries, 0 to 3909\n",
      "Data columns (total 16 columns):\n",
      " #   Column            Non-Null Count  Dtype  \n",
      "---  ------            --------------  -----  \n",
      " 0   house_type        3910 non-null   object \n",
      " 1   house_size        3910 non-null   object \n",
      " 2   location          3910 non-null   object \n",
      " 3   city              3910 non-null   object \n",
      " 4   latitude          3910 non-null   float64\n",
      " 5   longitude         3910 non-null   float64\n",
      " 6   price             3910 non-null   int64  \n",
      " 7   currency          3910 non-null   object \n",
      " 8   numBathrooms      3893 non-null   float64\n",
      " 9   numBalconies      1821 non-null   float64\n",
      " 10  isNegotiable      526 non-null    object \n",
      " 11  priceSqFt         0 non-null      float64\n",
      " 12  verificationDate  3910 non-null   object \n",
      " 13  description       3442 non-null   object \n",
      " 14  SecurityDeposit   3910 non-null   object \n",
      " 15  Status            3910 non-null   object \n",
      "dtypes: float64(5), int64(1), object(10)\n",
      "memory usage: 488.9+ KB\n",
      "\n",
      "\n",
      "\n",
      "<class 'pandas.core.frame.DataFrame'>\n",
      "RangeIndex: 5000 entries, 0 to 4999\n",
      "Data columns (total 16 columns):\n",
      " #   Column            Non-Null Count  Dtype  \n",
      "---  ------            --------------  -----  \n",
      " 0   house_type        5000 non-null   object \n",
      " 1   house_size        5000 non-null   object \n",
      " 2   location          5000 non-null   object \n",
      " 3   city              5000 non-null   object \n",
      " 4   latitude          5000 non-null   float64\n",
      " 5   longitude         5000 non-null   float64\n",
      " 6   price             5000 non-null   int64  \n",
      " 7   currency          5000 non-null   object \n",
      " 8   numBathrooms      4975 non-null   float64\n",
      " 9   numBalconies      2737 non-null   float64\n",
      " 10  isNegotiable      179 non-null    object \n",
      " 11  priceSqFt         0 non-null      float64\n",
      " 12  verificationDate  5000 non-null   object \n",
      " 13  description       4715 non-null   object \n",
      " 14  SecurityDeposit   5000 non-null   object \n",
      " 15  Status            5000 non-null   object \n",
      "dtypes: float64(5), int64(1), object(10)\n",
      "memory usage: 625.1+ KB\n",
      "\n",
      "\n",
      "\n",
      "<class 'pandas.core.frame.DataFrame'>\n",
      "RangeIndex: 13910 entries, 0 to 13909\n",
      "Data columns (total 16 columns):\n",
      " #   Column            Non-Null Count  Dtype  \n",
      "---  ------            --------------  -----  \n",
      " 0   house_type        13910 non-null  object \n",
      " 1   house_size        13910 non-null  object \n",
      " 2   location          13910 non-null  object \n",
      " 3   city              13910 non-null  object \n",
      " 4   latitude          13910 non-null  float64\n",
      " 5   longitude         13910 non-null  float64\n",
      " 6   price             13910 non-null  int64  \n",
      " 7   currency          13910 non-null  object \n",
      " 8   numBathrooms      13854 non-null  float64\n",
      " 9   numBalconies      5291 non-null   float64\n",
      " 10  isNegotiable      1276 non-null   object \n",
      " 11  priceSqFt         0 non-null      float64\n",
      " 12  verificationDate  13910 non-null  object \n",
      " 13  description       13079 non-null  object \n",
      " 14  SecurityDeposit   13910 non-null  object \n",
      " 15  Status            13910 non-null  object \n",
      "dtypes: float64(5), int64(1), object(10)\n",
      "memory usage: 1.7+ MB\n"
     ]
    }
   ],
   "source": [
    "for df in data_all:\n",
    "    df.info()\n",
    "    print('\\n\\n')\n",
    "\n",
    "data.info()"
   ]
  },
  {
   "cell_type": "code",
   "execution_count": 47,
   "metadata": {},
   "outputs": [
    {
     "data": {
      "text/html": [
       "<div>\n",
       "<style scoped>\n",
       "    .dataframe tbody tr th:only-of-type {\n",
       "        vertical-align: middle;\n",
       "    }\n",
       "\n",
       "    .dataframe tbody tr th {\n",
       "        vertical-align: top;\n",
       "    }\n",
       "\n",
       "    .dataframe thead th {\n",
       "        text-align: right;\n",
       "    }\n",
       "</style>\n",
       "<table border=\"1\" class=\"dataframe\">\n",
       "  <thead>\n",
       "    <tr style=\"text-align: right;\">\n",
       "      <th></th>\n",
       "      <th>latitude</th>\n",
       "      <th>longitude</th>\n",
       "      <th>price</th>\n",
       "      <th>numBathrooms</th>\n",
       "      <th>numBalconies</th>\n",
       "      <th>priceSqFt</th>\n",
       "    </tr>\n",
       "  </thead>\n",
       "  <tbody>\n",
       "    <tr>\n",
       "      <th>count</th>\n",
       "      <td>13910.00</td>\n",
       "      <td>13910.00</td>\n",
       "      <td>13910.00</td>\n",
       "      <td>13854.00</td>\n",
       "      <td>5291.00</td>\n",
       "      <td>0.0</td>\n",
       "    </tr>\n",
       "    <tr>\n",
       "      <th>mean</th>\n",
       "      <td>22.38</td>\n",
       "      <td>74.71</td>\n",
       "      <td>108497.13</td>\n",
       "      <td>2.33</td>\n",
       "      <td>1.84</td>\n",
       "      <td>NaN</td>\n",
       "    </tr>\n",
       "    <tr>\n",
       "      <th>std</th>\n",
       "      <td>4.66</td>\n",
       "      <td>2.18</td>\n",
       "      <td>193434.88</td>\n",
       "      <td>1.00</td>\n",
       "      <td>0.70</td>\n",
       "      <td>NaN</td>\n",
       "    </tr>\n",
       "    <tr>\n",
       "      <th>min</th>\n",
       "      <td>17.47</td>\n",
       "      <td>18.50</td>\n",
       "      <td>1500.00</td>\n",
       "      <td>1.00</td>\n",
       "      <td>1.00</td>\n",
       "      <td>NaN</td>\n",
       "    </tr>\n",
       "    <tr>\n",
       "      <th>25%</th>\n",
       "      <td>18.61</td>\n",
       "      <td>72.97</td>\n",
       "      <td>18000.00</td>\n",
       "      <td>2.00</td>\n",
       "      <td>1.00</td>\n",
       "      <td>NaN</td>\n",
       "    </tr>\n",
       "    <tr>\n",
       "      <th>50%</th>\n",
       "      <td>19.15</td>\n",
       "      <td>73.90</td>\n",
       "      <td>33000.00</td>\n",
       "      <td>2.00</td>\n",
       "      <td>2.00</td>\n",
       "      <td>NaN</td>\n",
       "    </tr>\n",
       "    <tr>\n",
       "      <th>75%</th>\n",
       "      <td>28.55</td>\n",
       "      <td>77.15</td>\n",
       "      <td>90000.00</td>\n",
       "      <td>3.00</td>\n",
       "      <td>2.00</td>\n",
       "      <td>NaN</td>\n",
       "    </tr>\n",
       "    <tr>\n",
       "      <th>max</th>\n",
       "      <td>31.11</td>\n",
       "      <td>91.79</td>\n",
       "      <td>3010101.00</td>\n",
       "      <td>10.00</td>\n",
       "      <td>8.00</td>\n",
       "      <td>NaN</td>\n",
       "    </tr>\n",
       "  </tbody>\n",
       "</table>\n",
       "</div>"
      ],
      "text/plain": [
       "       latitude  longitude       price  numBathrooms  numBalconies  priceSqFt\n",
       "count  13910.00   13910.00    13910.00      13854.00       5291.00        0.0\n",
       "mean      22.38      74.71   108497.13          2.33          1.84        NaN\n",
       "std        4.66       2.18   193434.88          1.00          0.70        NaN\n",
       "min       17.47      18.50     1500.00          1.00          1.00        NaN\n",
       "25%       18.61      72.97    18000.00          2.00          1.00        NaN\n",
       "50%       19.15      73.90    33000.00          2.00          2.00        NaN\n",
       "75%       28.55      77.15    90000.00          3.00          2.00        NaN\n",
       "max       31.11      91.79  3010101.00         10.00          8.00        NaN"
      ]
     },
     "execution_count": 47,
     "metadata": {},
     "output_type": "execute_result"
    }
   ],
   "source": [
    "round(data.describe(), 2)\n"
   ]
  },
  {
   "cell_type": "code",
   "execution_count": 48,
   "metadata": {},
   "outputs": [
    {
     "data": {
      "text/plain": [
       "house_type          0.000000\n",
       "house_size          0.000000\n",
       "location            0.000000\n",
       "city                0.000000\n",
       "latitude            0.000000\n",
       "longitude           0.000000\n",
       "price               0.000000\n",
       "currency            0.000000\n",
       "numBathrooms        0.004026\n",
       "numBalconies        0.619626\n",
       "isNegotiable        0.908267\n",
       "priceSqFt           1.000000\n",
       "verificationDate    0.000000\n",
       "description         0.059741\n",
       "SecurityDeposit     0.000000\n",
       "Status              0.000000\n",
       "dtype: float64"
      ]
     },
     "execution_count": 48,
     "metadata": {},
     "output_type": "execute_result"
    }
   ],
   "source": [
    "data.isna().mean()\n"
   ]
  },
  {
   "cell_type": "code",
   "execution_count": 49,
   "metadata": {},
   "outputs": [
    {
     "data": {
      "text/html": [
       "<div>\n",
       "<style scoped>\n",
       "    .dataframe tbody tr th:only-of-type {\n",
       "        vertical-align: middle;\n",
       "    }\n",
       "\n",
       "    .dataframe tbody tr th {\n",
       "        vertical-align: top;\n",
       "    }\n",
       "\n",
       "    .dataframe thead th {\n",
       "        text-align: right;\n",
       "    }\n",
       "</style>\n",
       "<table border=\"1\" class=\"dataframe\">\n",
       "  <thead>\n",
       "    <tr style=\"text-align: right;\">\n",
       "      <th></th>\n",
       "      <th>percentage</th>\n",
       "    </tr>\n",
       "  </thead>\n",
       "  <tbody>\n",
       "    <tr>\n",
       "      <th>numBalconies</th>\n",
       "      <td>0.62</td>\n",
       "    </tr>\n",
       "    <tr>\n",
       "      <th>isNegotiable</th>\n",
       "      <td>0.91</td>\n",
       "    </tr>\n",
       "    <tr>\n",
       "      <th>priceSqFt</th>\n",
       "      <td>1.00</td>\n",
       "    </tr>\n",
       "  </tbody>\n",
       "</table>\n",
       "</div>"
      ],
      "text/plain": [
       "              percentage\n",
       "numBalconies        0.62\n",
       "isNegotiable        0.91\n",
       "priceSqFt           1.00"
      ]
     },
     "execution_count": 49,
     "metadata": {},
     "output_type": "execute_result"
    }
   ],
   "source": [
    "missing_value = pd.DataFrame(data.isna().mean(), columns=['percentage'])\n",
    "missing_value = missing_value[missing_value['percentage'] >= 0.5]\n",
    "round(missing_value, 2)"
   ]
  },
  {
   "cell_type": "code",
   "execution_count": 50,
   "metadata": {},
   "outputs": [
    {
     "name": "stdout",
     "output_type": "stream",
     "text": [
      "numBalconies 's kinds:  [nan  2.  4.  1.  5.  6.  3.  8.]\n",
      "isNegotiable 's kinds:  [nan 'Negotiable']\n",
      "priceSqFt 's kinds:  [nan]\n"
     ]
    }
   ],
   "source": [
    "idx=missing_value.index\n",
    "\n",
    "for i in idx:\n",
    "    print(i, \"\\'s kinds: \", data[i].unique())"
   ]
  },
  {
   "cell_type": "code",
   "execution_count": 51,
   "metadata": {},
   "outputs": [],
   "source": [
    "data_for_EDA = data_for_model = data\n",
    "data_for_EDA[idx] = data_for_EDA[idx].fillna(0)\n",
    "data_for_EDA = data_for_EDA.drop('priceSqFt', axis=1)"
   ]
  },
  {
   "cell_type": "code",
   "execution_count": 52,
   "metadata": {},
   "outputs": [
    {
     "name": "stdout",
     "output_type": "stream",
     "text": [
      "<class 'pandas.core.frame.DataFrame'>\n",
      "Index: 13024 entries, 0 to 13909\n",
      "Data columns (total 15 columns):\n",
      " #   Column            Non-Null Count  Dtype  \n",
      "---  ------            --------------  -----  \n",
      " 0   house_type        13024 non-null  object \n",
      " 1   house_size        13024 non-null  object \n",
      " 2   location          13024 non-null  object \n",
      " 3   city              13024 non-null  object \n",
      " 4   latitude          13024 non-null  float64\n",
      " 5   longitude         13024 non-null  float64\n",
      " 6   price             13024 non-null  int64  \n",
      " 7   currency          13024 non-null  object \n",
      " 8   numBathrooms      13024 non-null  float64\n",
      " 9   numBalconies      13024 non-null  float64\n",
      " 10  isNegotiable      13024 non-null  object \n",
      " 11  verificationDate  13024 non-null  object \n",
      " 12  description       13024 non-null  object \n",
      " 13  SecurityDeposit   13024 non-null  object \n",
      " 14  Status            13024 non-null  object \n",
      "dtypes: float64(4), int64(1), object(10)\n",
      "memory usage: 1.6+ MB\n"
     ]
    }
   ],
   "source": [
    "data_for_EDA = data_for_EDA.dropna()\n",
    "data_for_EDA.info()"
   ]
  },
  {
   "cell_type": "code",
   "execution_count": 53,
   "metadata": {},
   "outputs": [
    {
     "data": {
      "text/plain": [
       "array(['2 BHK Apartment ', '3 BHK Apartment ', '1 RK Studio Apartment ',\n",
       "       '1 BHK Apartment ', '4 BHK Apartment ', '1 BHK Independent Floor ',\n",
       "       '3 BHK Villa ', '3 BHK Independent House ',\n",
       "       '4 BHK Independent House ', '4 BHK Villa ', '6 BHK Apartment ',\n",
       "       '2 BHK Independent House ', '5 BHK Apartment ', '1 BHK Villa ',\n",
       "       '4 BHK Independent Floor ', '6 BHK Villa ', '5 BHK Villa ',\n",
       "       '3 BHK Independent Floor ', '2 BHK Independent Floor ',\n",
       "       '6 BHK penthouse ', '1 BHK Independent House ',\n",
       "       '5 BHK Independent House ', '2 BHK Villa ',\n",
       "       '6 BHK Independent House ', '8 BHK Independent Floor ',\n",
       "       '6 BHK Independent Floor ', '5 BHK Independent Floor ',\n",
       "       '7 BHK Independent Floor ', '8 BHK Independent House ',\n",
       "       '10 BHK Independent House ', '7 BHK Independent House ',\n",
       "       '9 BHK Independent House ', '8 BHK Villa ',\n",
       "       '12 BHK Independent House '], dtype=object)"
      ]
     },
     "execution_count": 53,
     "metadata": {},
     "output_type": "execute_result"
    }
   ],
   "source": [
    "data_for_EDA['house_type'].unique()"
   ]
  },
  {
   "cell_type": "code",
   "execution_count": 54,
   "metadata": {},
   "outputs": [
    {
     "name": "stdout",
     "output_type": "stream",
     "text": [
      "['Other' 'Studio Apartment' 'Independent Floor' 'Villa'\n",
      " 'Independent House' 'Penthouse']\n"
     ]
    }
   ],
   "source": [
    "def normalize_house_type(house_type):\n",
    "    if 'penthouse' in house_type:\n",
    "        return 'Penthouse'\n",
    "    elif 'Studio Apartment' in house_type:\n",
    "        return 'Studio Apartment'\n",
    "    elif 'Villa' in house_type:\n",
    "        return 'Villa'\n",
    "    elif 'Independent Floor' in house_type:\n",
    "        return 'Independent Floor'\n",
    "    elif 'Independent House' in house_type:\n",
    "        return 'Independent House'\n",
    "    else:\n",
    "        return 'Other'\n",
    "    \n",
    "data_for_EDA['normalize_house_type'] = data_for_EDA['house_type'].apply(normalize_house_type)\n",
    "print(data_for_EDA['normalize_house_type'].unique())"
   ]
  },
  {
   "cell_type": "code",
   "execution_count": 55,
   "metadata": {},
   "outputs": [
    {
     "data": {
      "text/plain": [
       "array(['1,180 sq ft', '1,120 sq ft', '1,200 sq ft', ..., '6,321 sq ft',\n",
       "       '333 sq ft', '1,855 sq ft'], dtype=object)"
      ]
     },
     "execution_count": 55,
     "metadata": {},
     "output_type": "execute_result"
    }
   ],
   "source": [
    "data_for_EDA['house_size'].unique()"
   ]
  },
  {
   "cell_type": "code",
   "execution_count": 56,
   "metadata": {},
   "outputs": [
    {
     "name": "stdout",
     "output_type": "stream",
     "text": [
      "[ 1000     0  2000  3000  4000  8000  6000  5000  7000  9000 10000 14000]\n"
     ]
    }
   ],
   "source": [
    "data_for_EDA['house_size_1000'] = (data_for_EDA['house_size'].str.replace(' sq ft', '').str.replace(',', '').astype(int) // 1000) * 1000\n",
    "house_size_price_mean = data_for_EDA.groupby('house_size_1000')['price'].mean()\n",
    "print(data_for_EDA['house_size_1000'].unique())"
   ]
  },
  {
   "cell_type": "code",
   "execution_count": 57,
   "metadata": {},
   "outputs": [
    {
     "data": {
      "text/plain": [
       "array(['Posted 2 years ago', 'Posted a month ago', 'Posted 3 years ago',\n",
       "       'Posted 3 months ago', 'Posted 2 months ago', 'Posted 23 days ago',\n",
       "       'Posted 18 days ago', 'Posted 11 days ago', 'Posted 4 days ago',\n",
       "       'Posted a day ago', 'Posted 17 days ago', 'Posted 4 months ago',\n",
       "       'Posted 12 days ago', 'Posted 8 months ago', 'Posted a year ago',\n",
       "       'Posted 13 days ago', 'Posted 16 days ago', 'Posted 20 days ago',\n",
       "       'Posted 19 days ago', 'Posted 22 days ago', 'Posted 9 days ago',\n",
       "       'Posted 15 days ago', 'Posted 21 days ago', 'Posted 14 days ago',\n",
       "       'Posted 5 days ago', 'Posted 10 days ago', 'Posted 20 hours ago',\n",
       "       'Posted 8 days ago', 'Posted 2 days ago', 'Posted 24 days ago',\n",
       "       'Posted 3 days ago', 'Posted 25 days ago', 'Posted 7 days ago',\n",
       "       'Posted 6 days ago', 'Posted 17 hours ago', 'Posted 5 months ago',\n",
       "       'Posted 19 hours ago', 'Posted 16 hours ago',\n",
       "       'Posted 10 hours ago', 'Posted 21 hours ago',\n",
       "       'Posted 11 hours ago', 'Posted 18 hours ago',\n",
       "       'Posted 14 hours ago', 'Posted 10 months ago',\n",
       "       'Posted 9 months ago', 'Posted 6 months ago', 'Posted 4 years ago',\n",
       "       'Posted 13 hours ago', 'Posted 33 minutes ago',\n",
       "       'Posted an hour ago', 'Posted 8 hours ago', 'Posted 3 hours ago',\n",
       "       'Posted 15 hours ago', 'Posted 37 minutes ago',\n",
       "       'Posted 7 months ago', 'Posted 6 hours ago', 'Posted 5 hours ago',\n",
       "       'Posted 4 hours ago', 'Posted 2 hours ago',\n",
       "       'Posted 35 minutes ago', 'Posted 9 hours ago'], dtype=object)"
      ]
     },
     "execution_count": 57,
     "metadata": {},
     "output_type": "execute_result"
    }
   ],
   "source": [
    "data_for_EDA['verificationDate'].unique()\n"
   ]
  },
  {
   "cell_type": "code",
   "execution_count": 58,
   "metadata": {},
   "outputs": [
    {
     "data": {
      "text/plain": [
       "array(['year', 'month', 'day', 'hour', 'minute'], dtype=object)"
      ]
     },
     "execution_count": 58,
     "metadata": {},
     "output_type": "execute_result"
    }
   ],
   "source": [
    "def normalize_data_type(date_str):\n",
    "    if 'year' in date_str or 'years' in date_str:\n",
    "        return 'year'\n",
    "    elif 'month' in date_str or 'months' in date_str:\n",
    "        return 'month'\n",
    "    elif 'day' in date_str or 'days' in date_str:\n",
    "        return 'day'\n",
    "    elif 'hour' in date_str or 'hours' in date_str:\n",
    "        return 'hour'\n",
    "    elif 'minute' in date_str or 'minutes' in date_str:\n",
    "        return 'minute'\n",
    "    else:\n",
    "        return 'Other'\n",
    "    \n",
    "data_for_EDA['date_type'] = data_for_EDA['verificationDate'].apply(normalize_data_type)\n",
    "data_for_EDA['date_type'].unique()"
   ]
  },
  {
   "cell_type": "code",
   "execution_count": null,
   "metadata": {},
   "outputs": [],
   "source": []
  }
 ],
 "metadata": {
  "kernelspec": {
   "display_name": "Python 3 (ipykernel)",
   "language": "python",
   "name": "python3"
  },
  "language_info": {
   "codemirror_mode": {
    "name": "ipython",
    "version": 3
   },
   "file_extension": ".py",
   "mimetype": "text/x-python",
   "name": "python",
   "nbconvert_exporter": "python",
   "pygments_lexer": "ipython3",
   "version": "3.12.1"
  }
 },
 "nbformat": 4,
 "nbformat_minor": 4
}
